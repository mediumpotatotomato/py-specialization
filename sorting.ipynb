{
 "cells": [
  {
   "cell_type": "code",
   "execution_count": 26,
   "id": "bea777c1-9bad-4960-ad7f-8b282b47d0c2",
   "metadata": {},
   "outputs": [
    {
     "name": "stdout",
     "output_type": "stream",
     "text": [
      "Antananarivo appeared 1 times\n",
      "Asmara appeared 1 times\n",
      "Blantyre appeared 2 times\n",
      "Dar es Salaam appeared 1 times\n",
      "Djibouti appeared 1 times\n",
      "Gaborone appeared 2 times\n",
      "Harare appeared 2 times\n",
      "Juba appeared 1 times\n",
      "Kampala appeared 1 times\n",
      "Kigali appeared 1 times\n",
      "Libreville appeared 1 times\n",
      "Lilongwe appeared 2 times\n",
      "Luanda appeared 1 times\n",
      "Lusaka appeared 2 times\n",
      "Malabo appeared 1 times\n",
      "Maputo appeared 2 times\n",
      "Maseru appeared 1 times\n",
      "Mbabana appeared 2 times\n",
      "Mogadishu appeared 1 times\n",
      "Nairobi appeared 1 times\n",
      "Port Louis appeared 1 times\n",
      "Pretoria appeared 2 times\n",
      "São Tomé appeared 1 times\n",
      "Windhoek appeared 1 times\n"
     ]
    }
   ],
   "source": [
    "'''\n",
    "Sorting a dictionary with ties\n",
    "'''\n",
    "cities = [\n",
    "    \"Nairobi\",\n",
    "    \"Kampala\",\n",
    "    \"Dar es Salaam\",\n",
    "    \"Kigali\",\n",
    "    \"Juba\",\n",
    "    \"Mogadishu\",\n",
    "    \"Asmara\",\n",
    "    \"Djibouti\",\n",
    "    \"Port Louis\",\n",
    "    \"Antananarivo\",\n",
    "    \"Libreville\",\n",
    "    \"Malabo\",\n",
    "    \"São Tomé\",\n",
    "    \"Luanda\",\n",
    "    \"Windhoek\",\n",
    "    \"Gaborone\",\n",
    "    \"Mbabana\",\n",
    "    \"Maseru\",\n",
    "    \"Pretoria\",\n",
    "    \"Harare\",\n",
    "    \"Lusaka\",\n",
    "    \"Lilongwe\",\n",
    "    \"Blantyre\",\n",
    "    \"Maputo\",\n",
    "    \"Mbabana\",\n",
    "    \"Gaborone\",\n",
    "    \"Pretoria\",\n",
    "    \"Harare\",\n",
    "    \"Lusaka\",\n",
    "    \"Lilongwe\",\n",
    "    \"Blantyre\",\n",
    "    \"Maputo\",\n",
    "]\n",
    "\n",
    "dict_count = {}\n",
    "\n",
    "for i in cities:\n",
    "    if i not in dict_count:\n",
    "        dict_count[i] = 1\n",
    "    else:\n",
    "        dict_count[i] += 1\n",
    "\n",
    "\n",
    "# print(\"{} appeared {} times\".format(dict_count.keys(), dict_count.values()))\n",
    "dict_sorted = sorted(dict_count)\n",
    "for v in dict_sorted:\n",
    "    print(\"{} appeared {} times\".format(v , dict_count[v]))\n"
   ]
  },
  {
   "cell_type": "code",
   "execution_count": null,
   "id": "5c7a58d3-fc6d-4162-af98-c3ff056278f7",
   "metadata": {},
   "outputs": [],
   "source": []
  }
 ],
 "metadata": {
  "kernelspec": {
   "display_name": "Python 3 (ipykernel)",
   "language": "python",
   "name": "python3"
  },
  "language_info": {
   "codemirror_mode": {
    "name": "ipython",
    "version": 3
   },
   "file_extension": ".py",
   "mimetype": "text/x-python",
   "name": "python",
   "nbconvert_exporter": "python",
   "pygments_lexer": "ipython3",
   "version": "3.9.10"
  }
 },
 "nbformat": 4,
 "nbformat_minor": 5
}
