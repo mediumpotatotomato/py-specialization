{
 "cells": [
  {
   "cell_type": "code",
   "execution_count": null,
   "id": "b070bd9e-7c00-4eea-8f31-6d1cf2f98618",
   "metadata": {},
   "outputs": [],
   "source": [
    "'''\n",
    "Implement it as a live game with the characters being generated on the go\n",
    "1. multiply the dashes by the length of the word\n",
    "    - implement this in a dictionary of dashes\n",
    "2. print the dashes on the welcome message\n",
    "3. if the users correctly guesses a single letter\n",
    "    - check for the position of the letter in the word\n",
    "    - go to the dictionary of dashes and replace the dash with the word\n",
    "'''\n",
    "def dashesList(word):\n",
    "    d_list = list([\"-\" for x in word])\n",
    "    return (d_list)\n",
    "    \n",
    "word = 'blank'\n",
    "dashes = dashesList(word)\n",
    "guesses = 10\n",
    "playing = True\n",
    "guessed_words = []\n",
    "word_len = len(word)\n",
    "\n",
    "\n",
    "    \n",
    "print('''\n",
    "----------------------------------------------\n",
    "--------------WELCOME-TO----------------------\n",
    "----------------HANGMAN-----------------------\n",
    "----------------------------------------------\n",
    "''')\n",
    "while playing:\n",
    "    player_input = input(\"Choose a letter. The word is {} .\\nWords Remaining: {}.\\nYou have {} guesses\\n------------\\nChoose your word:\".format(dashes ,word_len, guesses))\n",
    "    if player_input != \"\" and len(player_input) == 1:\n",
    "        guesses -= 1\n",
    "        if player_input in word:\n",
    "            if player_input in guessed_words:\n",
    "                print(\"you had already selected {}. Please try again\".format(player_input))\n",
    "            else:\n",
    "                word_pos = word.index(player_input)\n",
    "                dashes[word_pos] = player_input\n",
    "                guessed_words.append(player_input)\n",
    "                word_len -= 1\n",
    "                print(\"you have correctly selected {}. You have {} guesses remaining. The word length remaining is {}\\n\".format(player_input,guesses,word_len))\n",
    "                if len(guessed_words) == len (word):\n",
    "                    print(\"The game is finished. The word is {}\".format(dashes))\n",
    "                    playing = False\n",
    "        else:\n",
    "            print(\"Incorrect guess '{}' is not in the words. You have {} attempts. Your previous correct attempt was '{}'. try again\".format(player_input,guesses, (guessed_words[-1] if guessed_words else \"\")))\n",
    "    else:\n",
    "        print(\"We do not accept blank values or more than one character. You have {} attempts. try again\".format(guesses))\n",
    "   \n",
    "    if guesses < 1:\n",
    "        print(\"you have run out of guesses, the word is {}. Your correct guesses are: {}. Try again next time\".format(word,dashes))\n",
    "        playing = False\n",
    "        "
   ]
  }
 ],
 "metadata": {
  "kernelspec": {
   "display_name": "Python 3 (ipykernel)",
   "language": "python",
   "name": "python3"
  },
  "language_info": {
   "codemirror_mode": {
    "name": "ipython",
    "version": 3
   },
   "file_extension": ".py",
   "mimetype": "text/x-python",
   "name": "python",
   "nbconvert_exporter": "python",
   "pygments_lexer": "ipython3",
   "version": "3.8.7"
  }
 },
 "nbformat": 4,
 "nbformat_minor": 5
}
