{
 "cells": [
  {
   "cell_type": "code",
   "execution_count": 2,
   "id": "47afe058-795b-43d5-ad71-836f7b830d47",
   "metadata": {},
   "outputs": [
    {
     "name": "stdout",
     "output_type": "stream",
     "text": [
      "Hello, my name is Eric and I am 25 years old\n"
     ]
    }
   ],
   "source": [
    "'''\n",
    "initializing a class\n",
    "'''\n",
    "\n",
    "class Person():\n",
    "    '''\n",
    "    the __init__ method with the class properties\n",
    "    '''\n",
    "    def __init__(self, name, age):\n",
    "        self.name = name\n",
    "        self.age  = age\n",
    "    '''\n",
    "    method to print the usernames. Note of the use of 'self' in the keyword\n",
    "    (Q): why do we use 'self'?\n",
    "    '''\n",
    "    def printUser(self):\n",
    "        print(\"Hello, my name is {} and I am {} years old\".format(self.name , self.age))\n",
    "\n",
    "eric = Person(\"Eric\" , 25)\n",
    "eric.printUser()\n",
    "\n"
   ]
  },
  {
   "cell_type": "code",
   "execution_count": null,
   "id": "42760ecc-aafb-4283-a7a6-135f8b90afc9",
   "metadata": {},
   "outputs": [],
   "source": []
  }
 ],
 "metadata": {
  "kernelspec": {
   "display_name": "Python 3 (ipykernel)",
   "language": "python",
   "name": "python3"
  },
  "language_info": {
   "codemirror_mode": {
    "name": "ipython",
    "version": 3
   },
   "file_extension": ".py",
   "mimetype": "text/x-python",
   "name": "python",
   "nbconvert_exporter": "python",
   "pygments_lexer": "ipython3",
   "version": "3.9.10"
  }
 },
 "nbformat": 4,
 "nbformat_minor": 5
}
