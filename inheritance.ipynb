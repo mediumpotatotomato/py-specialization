{
 "cells": [
  {
   "cell_type": "code",
   "execution_count": 1,
   "id": "096d9182-daf0-4168-a204-23fb122dbc26",
   "metadata": {
    "editable": true,
    "slideshow": {
     "slide_type": ""
    },
    "tags": []
   },
   "outputs": [],
   "source": [
    "'''\n",
    "BOOK - superclass\n",
    "eBook, PaperBack, Audiobook - child classes\n",
    "Library - a class that contains eBooks, PaperBacks and AudioBooks\n",
    "'''\n",
    "\n",
    "class Book:\n",
    "    def __init__(self,author,title,year):\n",
    "        self.author = author\n",
    "        self.title  = title\n",
    "        self.year   = year\n",
    "\n",
    "    def __str__(self):\n",
    "        return (\"Author:{} - Title:{} - Year Published:{}\".format(self.author,self.title,self.year))\n",
    "\n",
    "class eBook(Book):\n",
    "    def __init__(self,author,title,year,size,url):\n",
    "        Book.__init__(self,author,title,year)\n",
    "        self.size = size\n",
    "        self.url  = url\n",
    "\n",
    "    def getUrl(self):\n",
    "        return \"The eBook {} url is {}\".format(self.title, self.url)\n",
    "    def getSize(self):\n",
    "        return self.size\n",
    "\n",
    "    def __str__(self):\n",
    "        print(\"This is an eBook\")\n",
    "        return super().__str__()\n",
    "\n",
    "class Paperback(Book):\n",
    "    def __init__(self,author,title,year,pages):\n",
    "        Book.__init__(self,author,title,year)\n",
    "        self.pages = pages\n",
    "    \n",
    "    def __str__(self):\n",
    "        return (\"Paperback book. Author: {} , Title: {}, Year:{}, Number of pages:{}\".format(self.author,self.title,self.year,self.pages))\n",
    "        "
   ]
  },
  {
   "cell_type": "code",
   "execution_count": 2,
   "id": "5dcd8bce-c573-4190-ba7f-4d23aafda0a9",
   "metadata": {},
   "outputs": [],
   "source": [
    "vasily = eBook('Trotsky','Vasily',1998,200,'http://www.vasilly.com')\n",
    "how_to_read = Paperback('Henne' , 'How to Read' , 2002, 139)"
   ]
  },
  {
   "cell_type": "code",
   "execution_count": 27,
   "id": "6db4d0c8-4217-42a3-81af-8dec86092770",
   "metadata": {},
   "outputs": [
    {
     "name": "stdout",
     "output_type": "stream",
     "text": [
      "This is an eBook\n",
      "Author:Trotsky - Title:Vasily - Year Published:1998\n"
     ]
    }
   ],
   "source": [
    "vasily.getUrl()\n",
    "print(vasily)"
   ]
  },
  {
   "cell_type": "code",
   "execution_count": 3,
   "id": "124c68bd-f77a-4579-96c0-848e5164e639",
   "metadata": {},
   "outputs": [
    {
     "name": "stdout",
     "output_type": "stream",
     "text": [
      "Paperback book. Author: Henne , Title: How to Read, Year:2002, Number of pages:139\n"
     ]
    }
   ],
   "source": [
    "print(how_to_read)"
   ]
  },
  {
   "cell_type": "code",
   "execution_count": 10,
   "id": "7e8edea6-86ce-4dc0-b672-bea75af9da5c",
   "metadata": {},
   "outputs": [
    {
     "data": {
      "text/plain": [
       "<__main__.Book at 0x220512702e0>"
      ]
     },
     "execution_count": 10,
     "metadata": {},
     "output_type": "execute_result"
    }
   ],
   "source": [
    "book1\n"
   ]
  },
  {
   "cell_type": "code",
   "execution_count": 11,
   "id": "1a7d9400-c388-46ab-8a16-617b1687fdbe",
   "metadata": {},
   "outputs": [
    {
     "name": "stdout",
     "output_type": "stream",
     "text": [
      "Author:James - Title:James Bond - Year Published:1998\n"
     ]
    }
   ],
   "source": [
    "print(book1)"
   ]
  },
  {
   "cell_type": "code",
   "execution_count": null,
   "id": "2f55e4c5-2d8f-4a4b-ad58-ef72e1273299",
   "metadata": {},
   "outputs": [],
   "source": []
  }
 ],
 "metadata": {
  "kernelspec": {
   "display_name": "Python 3 (ipykernel)",
   "language": "python",
   "name": "python3"
  },
  "language_info": {
   "codemirror_mode": {
    "name": "ipython",
    "version": 3
   },
   "file_extension": ".py",
   "mimetype": "text/x-python",
   "name": "python",
   "nbconvert_exporter": "python",
   "pygments_lexer": "ipython3",
   "version": "3.9.10"
  }
 },
 "nbformat": 4,
 "nbformat_minor": 5
}
