{
 "cells": [
  {
   "cell_type": "code",
   "execution_count": 3,
   "id": "b070bd9e-7c00-4eea-8f31-6d1cf2f98618",
   "metadata": {},
   "outputs": [
    {
     "name": "stdout",
     "output_type": "stream",
     "text": [
      "\n",
      "----------------------------------------------\n",
      "--------------WELCOME-TO----------------------\n",
      "----------------HANGMAN-----------------------\n",
      "----------------------------------------------\n",
      "\n"
     ]
    },
    {
     "ename": "KeyboardInterrupt",
     "evalue": "Interrupted by user",
     "output_type": "error",
     "traceback": [
      "\u001b[1;31m---------------------------------------------------------------------------\u001b[0m",
      "\u001b[1;31mKeyboardInterrupt\u001b[0m                         Traceback (most recent call last)",
      "Cell \u001b[1;32mIn[3], line 33\u001b[0m\n\u001b[0;32m     26\u001b[0m \u001b[38;5;28mprint\u001b[39m(\u001b[38;5;124m'''\u001b[39m\n\u001b[0;32m     27\u001b[0m \u001b[38;5;124m----------------------------------------------\u001b[39m\n\u001b[0;32m     28\u001b[0m \u001b[38;5;124m--------------WELCOME-TO----------------------\u001b[39m\n\u001b[0;32m     29\u001b[0m \u001b[38;5;124m----------------HANGMAN-----------------------\u001b[39m\n\u001b[0;32m     30\u001b[0m \u001b[38;5;124m----------------------------------------------\u001b[39m\n\u001b[0;32m     31\u001b[0m \u001b[38;5;124m'''\u001b[39m)\n\u001b[0;32m     32\u001b[0m \u001b[38;5;28;01mwhile\u001b[39;00m playing:\n\u001b[1;32m---> 33\u001b[0m     player_input \u001b[38;5;241m=\u001b[39m \u001b[38;5;28;43minput\u001b[39;49m\u001b[43m(\u001b[49m\u001b[38;5;124;43m\"\u001b[39;49m\u001b[38;5;124;43mChoose a letter. The word is \u001b[39;49m\u001b[38;5;132;43;01m{}\u001b[39;49;00m\u001b[38;5;124;43m .\u001b[39;49m\u001b[38;5;130;43;01m\\n\u001b[39;49;00m\u001b[38;5;124;43mWords Remaining: \u001b[39;49m\u001b[38;5;132;43;01m{}\u001b[39;49;00m\u001b[38;5;124;43m.\u001b[39;49m\u001b[38;5;130;43;01m\\n\u001b[39;49;00m\u001b[38;5;124;43mYou have \u001b[39;49m\u001b[38;5;132;43;01m{}\u001b[39;49;00m\u001b[38;5;124;43m guesses\u001b[39;49m\u001b[38;5;130;43;01m\\n\u001b[39;49;00m\u001b[38;5;124;43m------------\u001b[39;49m\u001b[38;5;130;43;01m\\n\u001b[39;49;00m\u001b[38;5;124;43mChoose your word:\u001b[39;49m\u001b[38;5;124;43m\"\u001b[39;49m\u001b[38;5;241;43m.\u001b[39;49m\u001b[43mformat\u001b[49m\u001b[43m(\u001b[49m\u001b[43mdashes\u001b[49m\u001b[43m \u001b[49m\u001b[43m,\u001b[49m\u001b[43mword_len\u001b[49m\u001b[43m,\u001b[49m\u001b[43m \u001b[49m\u001b[43mguesses\u001b[49m\u001b[43m)\u001b[49m\u001b[43m)\u001b[49m\n\u001b[0;32m     34\u001b[0m     \u001b[38;5;28;01mif\u001b[39;00m player_input \u001b[38;5;241m!=\u001b[39m \u001b[38;5;124m\"\u001b[39m\u001b[38;5;124m\"\u001b[39m \u001b[38;5;129;01mand\u001b[39;00m \u001b[38;5;28mlen\u001b[39m(player_input) \u001b[38;5;241m==\u001b[39m \u001b[38;5;241m1\u001b[39m:\n\u001b[0;32m     35\u001b[0m         guesses \u001b[38;5;241m-\u001b[39m\u001b[38;5;241m=\u001b[39m \u001b[38;5;241m1\u001b[39m\n",
      "File \u001b[1;32mc:\\users\\small\\appdata\\local\\programs\\python\\python38\\lib\\site-packages\\ipykernel\\kernelbase.py:1251\u001b[0m, in \u001b[0;36mKernel.raw_input\u001b[1;34m(self, prompt)\u001b[0m\n\u001b[0;32m   1249\u001b[0m     msg \u001b[38;5;241m=\u001b[39m \u001b[38;5;124m\"\u001b[39m\u001b[38;5;124mraw_input was called, but this frontend does not support input requests.\u001b[39m\u001b[38;5;124m\"\u001b[39m\n\u001b[0;32m   1250\u001b[0m     \u001b[38;5;28;01mraise\u001b[39;00m StdinNotImplementedError(msg)\n\u001b[1;32m-> 1251\u001b[0m \u001b[38;5;28;01mreturn\u001b[39;00m \u001b[38;5;28;43mself\u001b[39;49m\u001b[38;5;241;43m.\u001b[39;49m\u001b[43m_input_request\u001b[49m\u001b[43m(\u001b[49m\n\u001b[0;32m   1252\u001b[0m \u001b[43m    \u001b[49m\u001b[38;5;28;43mstr\u001b[39;49m\u001b[43m(\u001b[49m\u001b[43mprompt\u001b[49m\u001b[43m)\u001b[49m\u001b[43m,\u001b[49m\n\u001b[0;32m   1253\u001b[0m \u001b[43m    \u001b[49m\u001b[38;5;28;43mself\u001b[39;49m\u001b[38;5;241;43m.\u001b[39;49m\u001b[43m_parent_ident\u001b[49m\u001b[43m[\u001b[49m\u001b[38;5;124;43m\"\u001b[39;49m\u001b[38;5;124;43mshell\u001b[39;49m\u001b[38;5;124;43m\"\u001b[39;49m\u001b[43m]\u001b[49m\u001b[43m,\u001b[49m\n\u001b[0;32m   1254\u001b[0m \u001b[43m    \u001b[49m\u001b[38;5;28;43mself\u001b[39;49m\u001b[38;5;241;43m.\u001b[39;49m\u001b[43mget_parent\u001b[49m\u001b[43m(\u001b[49m\u001b[38;5;124;43m\"\u001b[39;49m\u001b[38;5;124;43mshell\u001b[39;49m\u001b[38;5;124;43m\"\u001b[39;49m\u001b[43m)\u001b[49m\u001b[43m,\u001b[49m\n\u001b[0;32m   1255\u001b[0m \u001b[43m    \u001b[49m\u001b[43mpassword\u001b[49m\u001b[38;5;241;43m=\u001b[39;49m\u001b[38;5;28;43;01mFalse\u001b[39;49;00m\u001b[43m,\u001b[49m\n\u001b[0;32m   1256\u001b[0m \u001b[43m\u001b[49m\u001b[43m)\u001b[49m\n",
      "File \u001b[1;32mc:\\users\\small\\appdata\\local\\programs\\python\\python38\\lib\\site-packages\\ipykernel\\kernelbase.py:1295\u001b[0m, in \u001b[0;36mKernel._input_request\u001b[1;34m(self, prompt, ident, parent, password)\u001b[0m\n\u001b[0;32m   1292\u001b[0m \u001b[38;5;28;01mexcept\u001b[39;00m \u001b[38;5;167;01mKeyboardInterrupt\u001b[39;00m:\n\u001b[0;32m   1293\u001b[0m     \u001b[38;5;66;03m# re-raise KeyboardInterrupt, to truncate traceback\u001b[39;00m\n\u001b[0;32m   1294\u001b[0m     msg \u001b[38;5;241m=\u001b[39m \u001b[38;5;124m\"\u001b[39m\u001b[38;5;124mInterrupted by user\u001b[39m\u001b[38;5;124m\"\u001b[39m\n\u001b[1;32m-> 1295\u001b[0m     \u001b[38;5;28;01mraise\u001b[39;00m \u001b[38;5;167;01mKeyboardInterrupt\u001b[39;00m(msg) \u001b[38;5;28;01mfrom\u001b[39;00m \u001b[38;5;28;01mNone\u001b[39;00m\n\u001b[0;32m   1296\u001b[0m \u001b[38;5;28;01mexcept\u001b[39;00m \u001b[38;5;167;01mException\u001b[39;00m:\n\u001b[0;32m   1297\u001b[0m     \u001b[38;5;28mself\u001b[39m\u001b[38;5;241m.\u001b[39mlog\u001b[38;5;241m.\u001b[39mwarning(\u001b[38;5;124m\"\u001b[39m\u001b[38;5;124mInvalid Message:\u001b[39m\u001b[38;5;124m\"\u001b[39m, exc_info\u001b[38;5;241m=\u001b[39m\u001b[38;5;28;01mTrue\u001b[39;00m)\n",
      "\u001b[1;31mKeyboardInterrupt\u001b[0m: Interrupted by user"
     ]
    }
   ],
   "source": [
    "'''\n",
    "Implement it as a live game with the characters being generated on the go\n",
    "1. multiply the dashes by the length of the word\n",
    "    - implement this in a dictionary of dashes\n",
    "2. print the dashes on the welcome message\n",
    "3. if the users correctly guesses a single letter\n",
    "    - check for the position of the letter in the word\n",
    "    - go to the dictionary of dashes and replace the dash with the word\n",
    "'''\n",
    "import random\n",
    "\n",
    "def dashesList(word):\n",
    "    d_list = list([\"-\" for x in word])\n",
    "    return (d_list)\n",
    "words = [\"apple\", \"banana\", \"cat\", \"dog\", \"house\", \"car\", \"sun\", \"moon\", \"cloud\", \"rain\", \"flower\", \"tree\", \"river\", \"mountain\", \"book\", \"computer\", \"music\", \"dance\", \"laugh\", \"love\", \"friend\", \"family\", \"happy\", \"sad\", \"angry\", \"tired\", \"hungry\", \"sleepy\", \"hot\", \"cold\", \"big\", \"small\", \"long\", \"short\", \"up\", \"down\", \"fast\", \"slow\", \"in\", \"out\", \"on\", \"off\", \"go\", \"stop\", \"come\", \"look\", \"say\", \"think\", \"dream\", \"hope\", \"believe\", \"try\", \"do\", \"get\", \"give\", \"see\", \"hear\", \"smell\", \"taste\", \"feel\", \"know\", \"understand\", \"want\", \"need\", \"like\", \"dislike\", \"good\", \"bad\", \"beautiful\", \"ugly\", \"funny\", \"serious\", \"interesting\", \"boring\", \"easy\", \"difficult\", \"old\", \"new\", \"first\", \"last\", \"one\", \"two\", \"three\", \"four\", \"five\", \"six\", \"seven\", \"eight\", \"nine\", \"ten\", \"day\", \"night\", \"morning\", \"afternoon\", \"evening\", \"week\", \"month\", \"year\", \"spring\", \"summer\", \"autumn\", \"winter\"]\n",
    "val = random.randint(0,(len(words)-1))\n",
    "word = words[val]\n",
    "dashes = dashesList(word)\n",
    "guesses = 10\n",
    "playing = True\n",
    "guessed_words = []\n",
    "word_len = len(word)\n",
    "\n",
    "\n",
    "    \n",
    "print('''\n",
    "----------------------------------------------\n",
    "--------------WELCOME-TO----------------------\n",
    "----------------HANGMAN-----------------------\n",
    "----------------------------------------------\n",
    "''')\n",
    "while playing:\n",
    "    player_input = input(\"Choose a letter. The word is {} .\\nWords Remaining: {}.\\nYou have {} guesses\\n------------\\nChoose your word:\".format(dashes ,word_len, guesses))\n",
    "    if player_input != \"\" and len(player_input) == 1:\n",
    "        guesses -= 1\n",
    "        if player_input in word:\n",
    "            if player_input in guessed_words:\n",
    "                print(\"you had already selected {}. Please try again\".format(player_input))\n",
    "            else:\n",
    "                word_pos = word.index(player_input)\n",
    "                dashes[word_pos] = player_input\n",
    "                guessed_words.append(player_input)\n",
    "                word_len -= 1\n",
    "                print(\"you have correctly selected {}. You have {} guesses remaining. The word length remaining is {}\\n\".format(player_input,guesses,word_len))\n",
    "                if len(guessed_words) == len (word):\n",
    "                    print(\"The game is finished. The word is {}\".format(dashes))\n",
    "                    playing = False\n",
    "        else:\n",
    "            print(\"Incorrect guess '{}' is not in the words. You have {} attempts. Your previous correct attempt was '{}'. try again\".format(player_input,guesses, (guessed_words[-1] if guessed_words else \"\")))\n",
    "    else:\n",
    "        print(\"We do not accept blank values or more than one character. You have {} attempts. try again\".format(guesses))\n",
    "   \n",
    "    if guesses < 1:\n",
    "        print(\"you have run out of guesses, the word is {}. Your correct guesses are: {}. Try again next time\".format(word,dashes))\n",
    "        playing = False\n",
    "        "
   ]
  },
  {
   "cell_type": "code",
   "execution_count": null,
   "id": "267d9608-d204-47a9-a160-da2174e42acf",
   "metadata": {},
   "outputs": [],
   "source": []
  }
 ],
 "metadata": {
  "kernelspec": {
   "display_name": "Python 3 (ipykernel)",
   "language": "python",
   "name": "python3"
  },
  "language_info": {
   "codemirror_mode": {
    "name": "ipython",
    "version": 3
   },
   "file_extension": ".py",
   "mimetype": "text/x-python",
   "name": "python",
   "nbconvert_exporter": "python",
   "pygments_lexer": "ipython3",
   "version": "3.8.7"
  }
 },
 "nbformat": 4,
 "nbformat_minor": 5
}
